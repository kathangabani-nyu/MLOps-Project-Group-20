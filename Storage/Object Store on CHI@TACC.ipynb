{
 "cells": [
  {
   "cell_type": "code",
   "execution_count": null,
   "id": "e5a7d999-2ed1-489f-a8c9-d76e873a9984",
   "metadata": {},
   "outputs": [],
   "source": [
    "s.execute(\"curl https://rclone.org/install.sh | sudo bash\")"
   ]
  },
  {
   "cell_type": "code",
   "execution_count": null,
   "id": "fd6dc778-75ac-49b6-a57b-054b1b7a70f8",
   "metadata": {},
   "outputs": [],
   "source": [
    "s.execute(\"sudo sed -i '/^#user_allow_other/s/^#//' /etc/fuse.conf\")"
   ]
  },
  {
   "cell_type": "code",
   "execution_count": null,
   "id": "b912d1d8-52b3-4b71-a84d-9f0e7b12a653",
   "metadata": {},
   "outputs": [],
   "source": [
    "s.execute(\"mkdir -p ~/.config/rclone\")\n",
    "s.execute(\"nano  ~/.config/rclone/rclone.conf\")"
   ]
  },
  {
   "cell_type": "code",
   "execution_count": null,
   "id": "07c60aa7-904d-4c9a-8299-9dad302a9e3d",
   "metadata": {},
   "outputs": [],
   "source": [
    "## Change credentials and user details \n",
    "[chi_tacc]\n",
    "type = swift\n",
    "user_id = YOUR_USER_ID\n",
    "application_credential_id = APP_CRED_ID\n",
    "application_credential_secret = APP_CRED_SECRET\n",
    "auth = https://chi.tacc.chameleoncloud.org:5000/v3\n",
    "region = CHI@TACC"
   ]
  },
  {
   "cell_type": "code",
   "execution_count": null,
   "id": "4f86ddad-597d-4563-9892-c5e52b0b3fdc",
   "metadata": {},
   "outputs": [],
   "source": [
    "s.execute(\"rclone lsd chi_tacc:\")"
   ]
  },
  {
   "cell_type": "code",
   "execution_count": null,
   "id": "7705a5a4-c261-4f60-829f-71b4742e069b",
   "metadata": {},
   "outputs": [],
   "source": [
    "## Create the ETL pipeline (YMAL file) to extract transform and load the data"
   ]
  },
  {
   "cell_type": "code",
   "execution_count": null,
   "id": "56aee5f0-6d81-45a3-98d2-e262a7847326",
   "metadata": {},
   "outputs": [],
   "source": [
    "s.execute(\"docker compose -f ~/data-persist-chi/docker/docker-compose-etl.yaml run extract-data\")"
   ]
  },
  {
   "cell_type": "code",
   "execution_count": null,
   "id": "fb28d757-4454-4756-b103-38c6835f4f63",
   "metadata": {},
   "outputs": [],
   "source": [
    "s.execute(\"docker compose -f ~/data-persist-chi/docker/docker-compose-etl.yaml run transform-data\")"
   ]
  },
  {
   "cell_type": "code",
   "execution_count": null,
   "id": "2b2b64a0-bf56-4ddb-890d-5192ca18b2a1",
   "metadata": {},
   "outputs": [],
   "source": [
    "s.execute(\"export RCLONE_CONTAINER=mlops-project20\")\n",
    "s.execute(\"docker compose -f ~/data-persist-chi/docker/docker-compose-etl.yaml run load-data\")"
   ]
  },
  {
   "cell_type": "code",
   "execution_count": null,
   "id": "cf505aa6-3ad5-4af9-80a9-e72a9daef4ec",
   "metadata": {},
   "outputs": [],
   "source": []
  }
 ],
 "metadata": {
  "kernelspec": {
   "display_name": "Python 3 (ipykernel)",
   "language": "python",
   "name": "python3"
  },
  "language_info": {
   "codemirror_mode": {
    "name": "ipython",
    "version": 3
   },
   "file_extension": ".py",
   "mimetype": "text/x-python",
   "name": "python",
   "nbconvert_exporter": "python",
   "pygments_lexer": "ipython3",
   "version": "3.10.9"
  }
 },
 "nbformat": 4,
 "nbformat_minor": 5
}
