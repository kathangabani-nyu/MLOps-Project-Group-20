{
 "cells": [
  {
   "cell_type": "code",
   "execution_count": null,
   "id": "9904ffda-109b-49bb-96c3-1e4dfa2aa085",
   "metadata": {},
   "outputs": [],
   "source": [
    "s.execute(\"lsblk\")"
   ]
  },
  {
   "cell_type": "code",
   "execution_count": null,
   "id": "41e38e77-bfa4-48cc-b2bb-2ae624a41b6c",
   "metadata": {},
   "outputs": [],
   "source": [
    "s.execute(\"sudo parted -s /dev/vdb mklabel gpt\")\n",
    "s.execute(\"sudo parted -s /dev/vdb mkpart primary ext4 0% 100%\")"
   ]
  },
  {
   "cell_type": "code",
   "execution_count": null,
   "id": "f4fe1f09-2188-4dce-a39c-2d50e467986b",
   "metadata": {},
   "outputs": [],
   "source": [
    "s.execute(\"lsblk\")"
   ]
  },
  {
   "cell_type": "code",
   "execution_count": null,
   "id": "80cd4cd9-0515-46cb-ac0f-4ee8c535715a",
   "metadata": {},
   "outputs": [],
   "source": [
    "s.execute(\"sudo mkfs.ext4 /dev/vdb1\")"
   ]
  },
  {
   "cell_type": "code",
   "execution_count": null,
   "id": "d9388824-76a4-4c56-aa3b-5f18d6734a6f",
   "metadata": {},
   "outputs": [],
   "source": []
  }
 ],
 "metadata": {
  "kernelspec": {
   "display_name": "Python 3 (ipykernel)",
   "language": "python",
   "name": "python3"
  },
  "language_info": {
   "codemirror_mode": {
    "name": "ipython",
    "version": 3
   },
   "file_extension": ".py",
   "mimetype": "text/x-python",
   "name": "python",
   "nbconvert_exporter": "python",
   "pygments_lexer": "ipython3",
   "version": "3.10.9"
  }
 },
 "nbformat": 4,
 "nbformat_minor": 5
}
